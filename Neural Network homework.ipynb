{
 "cells": [
  {
   "cell_type": "markdown",
   "metadata": {
    "collapsed": true
   },
   "source": [
    "# De Regresión Softmax a Red Neuronal Softmax - Tarea"
   ]
  },
  {
   "cell_type": "markdown",
   "metadata": {},
   "source": [
    "El siguiente documento presenta la transformación de la regresión lineal a la red neuronal softmax, con capas ocultas que poseen una función de activación sigmoide.\n",
    "\n",
    "  Lo primero que se realiza es la importación de las librearias que se van a utilizar en el programa."
   ]
  },
  {
   "cell_type": "code",
   "execution_count": 1,
   "metadata": {
    "collapsed": true
   },
   "outputs": [],
   "source": [
    "# Import data\n",
    "from tensorflow.examples.tutorials.mnist import input_data\n",
    "\n",
    "import tensorflow as tf\n",
    "\n",
    "import matplotlib.pyplot as plt\n",
    "\n",
    "FLAGS = None\n",
    "\n",
    "%matplotlib inline"
   ]
  },
  {
   "cell_type": "markdown",
   "metadata": {},
   "source": [
    "Después de importar las librerias se declara una variable \"mnist\" que contiene las muestras de los números."
   ]
  },
  {
   "cell_type": "code",
   "execution_count": 2,
   "metadata": {},
   "outputs": [
    {
     "name": "stdout",
     "output_type": "stream",
     "text": [
      "Extracting MNIST_data/train-images-idx3-ubyte.gz\n",
      "Extracting MNIST_data/train-labels-idx1-ubyte.gz\n",
      "Extracting MNIST_data/t10k-images-idx3-ubyte.gz\n",
      "Extracting MNIST_data/t10k-labels-idx1-ubyte.gz\n"
     ]
    }
   ],
   "source": [
    "\n",
    "mnist = input_data.read_data_sets(\"MNIST_data/\", one_hot=True)"
   ]
  },
  {
   "cell_type": "markdown",
   "metadata": {},
   "source": [
    "Se separan las imagenes en dos vectores de entrenamiento. Uno para X y otro para Y. Además se crea un metodo que permite imprimir en pantalla la imagen del número que se está identificando."
   ]
  },
  {
   "cell_type": "code",
   "execution_count": 3,
   "metadata": {},
   "outputs": [
    {
     "name": "stdout",
     "output_type": "stream",
     "text": [
      "[ 0.  0.  0.  0.  1.  0.  0.  0.  0.  0.]\n"
     ]
    },
    {
     "data": {
      "image/png": "[encoded data removed]",
      "text/plain": [
       "<matplotlib.figure.Figure at 0x111e29a58>"
      ]
     },
     "metadata": {},
     "output_type": "display_data"
    }
   ],
   "source": [
    "x_train = mnist.train.images[:,:]\n",
    "y_train = mnist.train.labels[:,:]\n",
    "    \n",
    "def display_digit(num):\n",
    "    print(y_train[num])\n",
    "    label = y_train[num].argmax(axis=0)\n",
    "    image = x_train[num].reshape([28,28])\n",
    "    #print(image)\n",
    "    plt.title('Example: %d  Label: %d' % (num, label))\n",
    "    plt.imshow(image, cmap=plt.get_cmap('gray_r'))\n",
    "    plt.show()\n",
    "    \n",
    "display_digit(2)"
   ]
  },
  {
   "cell_type": "markdown",
   "metadata": {},
   "source": [
    "Se puede observar que el vector Y de salida, posee 9 ceros y 1 uno. La posición que tiene el 1 representa el número que se presenta en la imagen.\n",
    "\n",
    "Lo que sigue es crear el modelo:\n",
    "\n",
    "$ y = f(\\Sigma W_i X_i + b) $\n",
    "\n",
    "Donde: \n",
    "\n",
    "$W_i$ son los pesos y en el código es la variable \"w\".\n",
    "\n",
    "$X_i$ es el vector de entrada y es la variable \"x\".\n",
    "\n",
    "$b$ es el sesgo y es la variable \"b\"."
   ]
  },
  {
   "cell_type": "code",
   "execution_count": 4,
   "metadata": {},
   "outputs": [
    {
     "name": "stdout",
     "output_type": "stream",
     "text": [
      "nodos_entrada: 784\n",
      "nodos_oculta: 36\n",
      "nodos_salida: 10\n",
      "x: Tensor(\"Placeholder:0\", shape=(?, 784), dtype=float32)\n",
      "y: Tensor(\"Placeholder_1:0\", shape=(?, 10), dtype=float32)\n",
      "W1: Tensor(\"Variable/read:0\", shape=(784, 36), dtype=float32)\n",
      "b1: Tensor(\"Variable_1/read:0\", shape=(36,), dtype=float32)\n",
      "h1: Tensor(\"Sigmoid:0\", shape=(?, 36), dtype=float32)\n",
      "W2: Tensor(\"Variable_2/read:0\", shape=(36, 10), dtype=float32)\n",
      "b2: Tensor(\"Variable_3/read:0\", shape=(10,), dtype=float32)\n",
      "salida: Tensor(\"Softmax:0\", shape=(?, 10), dtype=float32)\n"
     ]
    }
   ],
   "source": [
    "# se inicializan los placeholder de la entrada\n",
    "nodos_entrada = x_train.shape[1] # aplasto la imagen en un vector\n",
    "x = tf.placeholder(tf.float32,(None,nodos_entrada)) # inicializo el placeholder [0,782]\n",
    "\n",
    "# se inicializan los nodos de la capa oculta\n",
    "nodos_oculta = 36\n",
    "W1 = tf.Variable(tf.random_normal((nodos_entrada, nodos_oculta)))\n",
    "b1 = tf.Variable(tf.zeros(nodos_oculta))\n",
    "h1 = tf.sigmoid(tf.matmul(x,W1) + b1)\n",
    "\n",
    "#se inicializan los nodos de la salida\n",
    "nodos_salida = y_train.shape[1]\n",
    "y = tf.placeholder(tf.float32,(None,nodos_salida))\n",
    "\n",
    "W2 = tf.Variable(tf.random_normal((nodos_oculta, nodos_salida)))\n",
    "b2 = tf.Variable(tf.zeros(nodos_salida))\n",
    "\n",
    "salida = tf.nn.softmax(tf.matmul(h1,W2) + b2)\n",
    "\n",
    "'''\n",
    "print('nodos_entrada: ' + str(nodos_entrada))\n",
    "print('nodos_oculta: ' + str(nodos_oculta))\n",
    "print('nodos_salida: ' + str(nodos_salida))\n",
    "print('x: ' + str(x))\n",
    "print('y: ' + str(y))\n",
    "print('W1: ' + str(W1))\n",
    "print('b1: ' + str(b1))\n",
    "print('h1: ' + str(h1))\n",
    "print('W2: ' + str(W2))\n",
    "print('b2: ' + str(b2))\n",
    "print('salida: ' + str(salida))\n",
    "'''"
   ]
  },
  {
   "cell_type": "code",
   "execution_count": 5,
   "metadata": {
    "collapsed": true
   },
   "outputs": [],
   "source": [
    "costo = tf.reduce_mean(\n",
    "    tf.nn.sigmoid_cross_entropy_with_logits(\n",
    "        logits=salida, labels=y\n",
    "    )\n",
    ")\n",
    "\n",
    "tasa_de_aprendizaje = 0.01\n",
    "optimizer = tf.train.AdamOptimizer(tasa_de_aprendizaje).minimize(costo)\n",
    "\n",
    "\n",
    "\n",
    "#learning_rate = 0.1\n",
    "\n",
    "#cross_entropy = tf.reduce_mean(tf.nn.softmax_cross_entropy_with_logits(logits=salida, labels=y))\n",
    "#train_step = tf.train.AdamOptimizer(learning_rate).minimize(cross_entropy)"
   ]
  },
  {
   "cell_type": "code",
   "execution_count": 6,
   "metadata": {
    "collapsed": true
   },
   "outputs": [],
   "source": [
    "sess = tf.InteractiveSession()\n",
    "tf.global_variables_initializer().run()"
   ]
  },
  {
   "cell_type": "code",
   "execution_count": 7,
   "metadata": {
    "collapsed": true
   },
   "outputs": [],
   "source": [
    "# Train\n",
    "\n",
    "for _ in range(15000):\n",
    "    batch_xs, batch_ys = mnist.train.next_batch(100)\n",
    "    sess.run(optimizer, feed_dict={x: batch_xs, y: batch_ys})\n"
   ]
  },
  {
   "cell_type": "code",
   "execution_count": 8,
   "metadata": {},
   "outputs": [
    {
     "name": "stdout",
     "output_type": "stream",
     "text": [
      "0.957\n"
     ]
    }
   ],
   "source": [
    "# Test trained model\n",
    "correct_prediction = tf.equal(tf.argmax(y, 1), tf.argmax(salida, 1))\n",
    "accuracy = tf.reduce_mean(tf.cast(correct_prediction, tf.float32))\n",
    "print(sess.run(accuracy, feed_dict={x: mnist.test.images,\n",
    "                                      y: mnist.test.labels}))"
   ]
  },
  {
   "cell_type": "code",
   "execution_count": 9,
   "metadata": {
    "scrolled": true
   },
   "outputs": [
    {
     "data": {
      "image/png": "[encoded data removed]",
      "text/plain": [
       "<matplotlib.figure.Figure at 0x11269d668>"
      ]
     },
     "metadata": {},
     "output_type": "display_data"
    }
   ],
   "source": [
    "for i in range(10):\n",
    "    plt.subplot(2, 5, i+1)\n",
    "    weight = sess.run(W1)[:,i]\n",
    "    plt.title(i)\n",
    "    plt.imshow(weight.reshape([28,28]), cmap=plt.get_cmap('seismic'))\n",
    "    frame1 = plt.gca()\n",
    "    frame1.axes.get_xaxis().set_visible(False)\n",
    "    frame1.axes.get_yaxis().set_visible(False)\n",
    "\n",
    "plt.show()"
   ]
  },
  {
   "cell_type": "code",
   "execution_count": 10,
   "metadata": {},
   "outputs": [
    {
     "data": {
      "image/png": "[encoded data removed]",
      "text/plain": [
       "<matplotlib.figure.Figure at 0x112817cc0>"
      ]
     },
     "metadata": {},
     "output_type": "display_data"
    }
   ],
   "source": [
    "for i in range(10):\n",
    "    plt.subplot(2, 5, i+1)\n",
    "    weight = sess.run(W2)[:,i]\n",
    "    plt.title(i)\n",
    "    plt.imshow(weight.reshape([6,6]), cmap=plt.get_cmap('seismic'))\n",
    "    frame1 = plt.gca()\n",
    "    frame1.axes.get_xaxis().set_visible(False)\n",
    "    frame1.axes.get_yaxis().set_visible(False)\n",
    "\n",
    "plt.show()"
   ]
  },
  {
   "cell_type": "code",
   "execution_count": 57,
   "metadata": {},
   "outputs": [
    {
     "name": "stdout",
     "output_type": "stream",
     "text": [
      "[ 0.  0.  0.  0.  0.  0.  0.  1.  0.  0.]\n"
     ]
    },
    {
     "data": {
      "image/png": "[encoded data removed]",
      "text/plain": [
       "<matplotlib.figure.Figure at 0x1164d82e8>"
      ]
     },
     "metadata": {},
     "output_type": "display_data"
    }
   ],
   "source": [
    "observacion_a_revisar = 14\n",
    "\n",
    "display_digit(observacion_a_revisar)"
   ]
  },
  {
   "cell_type": "code",
   "execution_count": 58,
   "metadata": {},
   "outputs": [
    {
     "name": "stdout",
     "output_type": "stream",
     "text": [
      "[[  3.87639251e-21   6.15083827e-17   5.26874594e-12   3.46714046e-11\n",
      "    4.49687674e-16   2.86203454e-15   3.41503345e-23   1.00000000e+00\n",
      "    1.87310558e-15   4.59392203e-12]]\n"
     ]
    }
   ],
   "source": [
    "answer = sess.run(salida, feed_dict={x: x_train[observacion_a_revisar].reshape(1,784)})\n",
    "print(answer)"
   ]
  },
  {
   "cell_type": "code",
   "execution_count": 59,
   "metadata": {},
   "outputs": [
    {
     "data": {
      "text/plain": [
       "7"
      ]
     },
     "execution_count": 59,
     "metadata": {},
     "output_type": "execute_result"
    }
   ],
   "source": [
    "answer.argmax()"
   ]
  },
  {
   "cell_type": "code",
   "execution_count": null,
   "metadata": {
    "collapsed": true
   },
   "outputs": [],
   "source": []
  }
 ],
 "metadata": {
  "kernelspec": {
   "display_name": "Python 3",
   "language": "python",
   "name": "python3"
  },
  "language_info": {
   "codemirror_mode": {
    "name": "ipython",
    "version": 3
   },
   "file_extension": ".py",
   "mimetype": "text/x-python",
   "name": "python",
   "nbconvert_exporter": "python",
   "pygments_lexer": "ipython3",
   "version": "3.5.4"
  }
 },
 "nbformat": 4,
 "nbformat_minor": 2
}
